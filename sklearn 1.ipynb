{
 "cells": [
  {
   "cell_type": "markdown",
   "source": [
    "첫번째 머신러닝 만들어보기 -붓꽃 품종 예측하기"
   ],
   "metadata": {}
  },
  {
   "cell_type": "code",
   "execution_count": 1,
   "source": [
    "from sklearn.datasets import load_iris\r\n",
    "from sklearn.tree import DecisionTreeClassifier\r\n",
    "from sklearn.model_selection import train_test_split"
   ],
   "outputs": [],
   "metadata": {}
  },
  {
   "cell_type": "code",
   "execution_count": 6,
   "source": [
    "import pandas as pd\r\n",
    "\r\n",
    "#붖꽃 데이터 세트를 로딩\r\n",
    "iris=load_iris()\r\n",
    "\r\n",
    "#iris.data는 iris 데이터 세트에서 피처만으로 된 데이터를 numpy로 가지고 있습니다.\r\n",
    "iris_data=iris.data\r\n",
    "\r\n",
    "#iris.target은 붓꽃 데이터 세트에서 레이블 데이터를 numpy로 가지고 있습니다.\r\n",
    "iris_label=iris.target\r\n",
    "print('iris target값',iris_label)\r\n",
    "print('iris target명',iris.target_names)\r\n",
    "\r\n",
    "#붓꽃 데이터 세트를 자세히 보기 위해 DataFrame으로 변환\r\n",
    "iris_df=pd.DataFrame(data=iris_data,columns=iris.feature_names)\r\n",
    "iris_df['label']=iris.target\r\n",
    "iris_df.head(3)\r\n",
    "#0- setosa , 1-versicolor 2-virginica"
   ],
   "outputs": [
    {
     "output_type": "stream",
     "name": "stdout",
     "text": [
      "iris target값 [0 0 0 0 0 0 0 0 0 0 0 0 0 0 0 0 0 0 0 0 0 0 0 0 0 0 0 0 0 0 0 0 0 0 0 0 0\n",
      " 0 0 0 0 0 0 0 0 0 0 0 0 0 1 1 1 1 1 1 1 1 1 1 1 1 1 1 1 1 1 1 1 1 1 1 1 1\n",
      " 1 1 1 1 1 1 1 1 1 1 1 1 1 1 1 1 1 1 1 1 1 1 1 1 1 1 2 2 2 2 2 2 2 2 2 2 2\n",
      " 2 2 2 2 2 2 2 2 2 2 2 2 2 2 2 2 2 2 2 2 2 2 2 2 2 2 2 2 2 2 2 2 2 2 2 2 2\n",
      " 2 2]\n",
      "iris target명 ['setosa' 'versicolor' 'virginica']\n"
     ]
    },
    {
     "output_type": "execute_result",
     "data": {
      "text/html": [
       "<div>\n",
       "<style scoped>\n",
       "    .dataframe tbody tr th:only-of-type {\n",
       "        vertical-align: middle;\n",
       "    }\n",
       "\n",
       "    .dataframe tbody tr th {\n",
       "        vertical-align: top;\n",
       "    }\n",
       "\n",
       "    .dataframe thead th {\n",
       "        text-align: right;\n",
       "    }\n",
       "</style>\n",
       "<table border=\"1\" class=\"dataframe\">\n",
       "  <thead>\n",
       "    <tr style=\"text-align: right;\">\n",
       "      <th></th>\n",
       "      <th>sepal length (cm)</th>\n",
       "      <th>sepal width (cm)</th>\n",
       "      <th>petal length (cm)</th>\n",
       "      <th>petal width (cm)</th>\n",
       "      <th>label</th>\n",
       "    </tr>\n",
       "  </thead>\n",
       "  <tbody>\n",
       "    <tr>\n",
       "      <th>0</th>\n",
       "      <td>5.1</td>\n",
       "      <td>3.5</td>\n",
       "      <td>1.4</td>\n",
       "      <td>0.2</td>\n",
       "      <td>0</td>\n",
       "    </tr>\n",
       "    <tr>\n",
       "      <th>1</th>\n",
       "      <td>4.9</td>\n",
       "      <td>3.0</td>\n",
       "      <td>1.4</td>\n",
       "      <td>0.2</td>\n",
       "      <td>0</td>\n",
       "    </tr>\n",
       "    <tr>\n",
       "      <th>2</th>\n",
       "      <td>4.7</td>\n",
       "      <td>3.2</td>\n",
       "      <td>1.3</td>\n",
       "      <td>0.2</td>\n",
       "      <td>0</td>\n",
       "    </tr>\n",
       "  </tbody>\n",
       "</table>\n",
       "</div>"
      ],
      "text/plain": [
       "   sepal length (cm)  sepal width (cm)  petal length (cm)  petal width (cm)  \\\n",
       "0                5.1               3.5                1.4               0.2   \n",
       "1                4.9               3.0                1.4               0.2   \n",
       "2                4.7               3.2                1.3               0.2   \n",
       "\n",
       "   label  \n",
       "0      0  \n",
       "1      0  \n",
       "2      0  "
      ]
     },
     "metadata": {},
     "execution_count": 6
    }
   ],
   "metadata": {}
  },
  {
   "cell_type": "code",
   "execution_count": 13,
   "source": [
    "X_train,X_test,y_train,y_test=train_test_split(iris_data,iris_label,test_size=0.2,random_state=11)\r\n",
    "#학습 데이터 80%,테스트 데이터 20%"
   ],
   "outputs": [],
   "metadata": {}
  },
  {
   "cell_type": "code",
   "execution_count": 12,
   "source": [
    "#DecisionTressClassifier 객체 생성\r\n",
    "dt_clf=DecisionTreeClassifier(random_state=11)\r\n",
    "\r\n",
    "#학습 수행\r\n",
    "dt_clf.fit(X_train,y_train)\r\n",
    "\r\n",
    "#학습이 완료된 DecisionTreeClassifier 객체에서 테스트 데이터 세트로 예측 수행\r\n",
    "pred=dt_clf.predict(X_test)\r\n",
    "\r\n",
    "#주의 예측은 반드시 학습 데이터가 아닌 다른 데이터를 이용 일반적으로 테스트 데이터 세트 이용"
   ],
   "outputs": [],
   "metadata": {}
  },
  {
   "cell_type": "code",
   "execution_count": 14,
   "source": [
    "from sklearn.metrics import accuracy_score\r\n",
    "print('예측 정확도:',accuracy_score(y_test,pred))"
   ],
   "outputs": [
    {
     "output_type": "stream",
     "name": "stdout",
     "text": [
      "예측 정확도: 0.9333333333333333\n"
     ]
    }
   ],
   "metadata": {}
  },
  {
   "cell_type": "markdown",
   "source": [
    "의사 결정 트리의 알고리즘\r\n",
    "1. 데이터 세트 분리 : 데이터를 학습데이터와 테스트 데이터로 분리한다.\r\n",
    "2. 모델 학습 : ML알고리즘을 적용해 모델을 학습시킨다.\r\n",
    "3. 예측 수행 : 학습된 ML 모델을 이용해 테스트 데이터의 분류를 예측한다. \r\n",
    "4. 평가 : 예측된 결과값과 테스트 데이터의 실제 결과값을 비교해 ML 모델 성능을 평가한다."
   ],
   "metadata": {}
  },
  {
   "cell_type": "markdown",
   "source": [
    "Estimator 이해 및 fit(),predict() 메서드"
   ],
   "metadata": {}
  },
  {
   "cell_type": "code",
   "execution_count": 18,
   "source": [
    "iris_data=load_iris()\r\n",
    "keys=iris_data.keys()\r\n",
    "print('붖꽃 데이터 세트의 키들:',keys)"
   ],
   "outputs": [
    {
     "output_type": "stream",
     "name": "stdout",
     "text": [
      "붖꽃 데이터 세트의 키들: dict_keys(['data', 'target', 'frame', 'target_names', 'DESCR', 'feature_names', 'filename'])\n"
     ]
    }
   ],
   "metadata": {}
  },
  {
   "cell_type": "markdown",
   "source": [
    "학습/테스트 데이터 세트 분리- train_test_split()"
   ],
   "metadata": {}
  },
  {
   "cell_type": "code",
   "execution_count": 19,
   "source": [
    "from sklearn.datasets import load_iris\r\n",
    "from sklearn.tree import DecisionTreeClassifier\r\n",
    "from sklearn.metrics import accuracy_score\r\n",
    "\r\n",
    "iris=load_iris()\r\n",
    "dt_clf=DecisionTreeClassifier()\r\n",
    "train_data=iris.data\r\n",
    "train_label=iris.target\r\n",
    "dt_clf.fit(train_data,train_label)\r\n",
    "\r\n",
    "#학습 데이터 세트로 예측 수행\r\n",
    "pred=dt_clf.predict(train_data)\r\n",
    "print(\"예측정확도:\",accuracy_score(train_label,pred))\r\n",
    "\r\n",
    "#이미 학습한 학습 데이터 세트를 기반으로 테스트를 시행했기에 예측 정확도가 1이 나옴 - 말이 안되는 수"
   ],
   "outputs": [
    {
     "output_type": "stream",
     "name": "stdout",
     "text": [
      "예측정확도: 1.0\n"
     ]
    }
   ],
   "metadata": {}
  },
  {
   "cell_type": "code",
   "execution_count": 21,
   "source": [
    "from sklearn.tree import DecisionTreeClassifier\r\n",
    "from sklearn.metrics import accuracy_score\r\n",
    "from sklearn.datasets import load_iris\r\n",
    "from sklearn.model_selection import train_test_split\r\n",
    "\r\n",
    "dt_clf=DecisionTreeClassifier()\r\n",
    "iris_data=load_iris()\r\n",
    "\r\n",
    "X_train,X_test,y_train,y_test=train_test_split(iris_data.data,iris_data.target,test_size=0.3,random_state=121)\r\n",
    "\r\n",
    "dt_clf.fit(X_train,y_train)\r\n",
    "pred=dt_clf.predict(X_test)\r\n",
    "print('예측 정확도:',accuracy_score(y_test,pred))"
   ],
   "outputs": [
    {
     "output_type": "stream",
     "name": "stdout",
     "text": [
      "예측 정확도: 0.9555555555555556\n"
     ]
    }
   ],
   "metadata": {}
  },
  {
   "cell_type": "markdown",
   "source": [
    "교차 검증"
   ],
   "metadata": {}
  },
  {
   "cell_type": "markdown",
   "source": [
    "k 폴드 교차 검증"
   ],
   "metadata": {}
  },
  {
   "cell_type": "code",
   "execution_count": 22,
   "source": [
    "from sklearn.tree import DecisionTreeClassifier\r\n",
    "from sklearn.metrics import accuracy_score\r\n",
    "from sklearn.model_selection import KFold\r\n",
    "import numpy as np\r\n",
    "iris=load_iris()\r\n",
    "features=iris.data\r\n",
    "label=iris.target\r\n",
    "dt_clf=DecisionTreeClassifier(random_state=156)\r\n",
    "\r\n",
    "#5개의 폴드 세트로 분리하는 kFold 객체와 폴드 세트별 정확도를 담을 리스트 객체 생성\r\n",
    "kfold=KFold(n_splits=5)\r\n",
    "cv_accuracy=[]\r\n",
    "print('붓꽃 데이터 세트 크기:',features.shape[0])"
   ],
   "outputs": [
    {
     "output_type": "stream",
     "name": "stdout",
     "text": [
      "붓꽃 데이터 세트 크기: 150\n"
     ]
    }
   ],
   "metadata": {}
  },
  {
   "cell_type": "code",
   "execution_count": 23,
   "source": [
    "n_iter=0\r\n",
    "\r\n",
    "#KFold 객체의 split()를 호출하면 폴드 별 학습용, 검증용 테스트의 로우 인덱스를 array로 반환 \r\n",
    "for train_index,test_index in kfold.split(features):\r\n",
    "    #kfold.split()으로 반환된 인덱스를 이용해 학습용,검증용 테스트 데이터 추출\r\n",
    "    X_train,X_test=features[train_index],features[test_index]\r\n",
    "    y_train,y_test=label[train_index],label[test_index]\r\n",
    "    #학습 및 예측\r\n",
    "    dt_clf.fit(X_train,y_train)\r\n",
    "    pred=dt_clf.predict(X_test)\r\n",
    "    n_iter+=1\r\n",
    "    #반복 시마다 정확도 측정\r\n",
    "    accuracy=np.round(accuracy_score(y_test,pred),4)\r\n",
    "    train_size=X_train.shape[0]\r\n",
    "    test_size=X_test.shape[0]\r\n",
    "    print('\\n#{0} 교차 검증 정확도:{1},학습 데이터 크기: {2},검증 데이터 크기:{3}'.format(n_iter,accuracy,train_size,test_size))\r\n",
    "    print('#{0} 검증 세트 인덱스:{1}'.format(n_iter,test_index))\r\n",
    "    cv_accuracy.append(accuracy)\r\n",
    "\r\n",
    "#개별 iternation별 정확도를 합하여 평균 정확도 계산\r\n",
    "print(\"평균 검증 정확도:\",np.mean(cv_accuracy))"
   ],
   "outputs": [
    {
     "output_type": "stream",
     "name": "stdout",
     "text": [
      "\n",
      "#1 교차 검증 정확도:1.0,학습 데이터 크기: 120,검증 데이터 크기:30\n",
      "#1 검증 세트 인덱스:[ 0  1  2  3  4  5  6  7  8  9 10 11 12 13 14 15 16 17 18 19 20 21 22 23\n",
      " 24 25 26 27 28 29]\n",
      "\n",
      "#2 교차 검증 정확도:0.9667,학습 데이터 크기: 120,검증 데이터 크기:30\n",
      "#2 검증 세트 인덱스:[30 31 32 33 34 35 36 37 38 39 40 41 42 43 44 45 46 47 48 49 50 51 52 53\n",
      " 54 55 56 57 58 59]\n",
      "\n",
      "#3 교차 검증 정확도:0.8667,학습 데이터 크기: 120,검증 데이터 크기:30\n",
      "#3 검증 세트 인덱스:[60 61 62 63 64 65 66 67 68 69 70 71 72 73 74 75 76 77 78 79 80 81 82 83\n",
      " 84 85 86 87 88 89]\n",
      "\n",
      "#4 교차 검증 정확도:0.9333,학습 데이터 크기: 120,검증 데이터 크기:30\n",
      "#4 검증 세트 인덱스:[ 90  91  92  93  94  95  96  97  98  99 100 101 102 103 104 105 106 107\n",
      " 108 109 110 111 112 113 114 115 116 117 118 119]\n",
      "\n",
      "#5 교차 검증 정확도:0.7333,학습 데이터 크기: 120,검증 데이터 크기:30\n",
      "#5 검증 세트 인덱스:[120 121 122 123 124 125 126 127 128 129 130 131 132 133 134 135 136 137\n",
      " 138 139 140 141 142 143 144 145 146 147 148 149]\n",
      "평균 검증 정확도: 0.9\n"
     ]
    }
   ],
   "metadata": {}
  },
  {
   "cell_type": "markdown",
   "source": [
    "Stratified K 폴드"
   ],
   "metadata": {}
  },
  {
   "cell_type": "code",
   "execution_count": 24,
   "source": [
    "import pandas as pd\r\n",
    "\r\n",
    "iris=load_iris()\r\n",
    "iris_df=pd.DataFrame(data=iris.data,columns=iris.feature_names)\r\n",
    "iris_df['label']=iris.target\r\n",
    "iris_df['label'].value_counts()"
   ],
   "outputs": [
    {
     "output_type": "execute_result",
     "data": {
      "text/plain": [
       "0    50\n",
       "1    50\n",
       "2    50\n",
       "Name: label, dtype: int64"
      ]
     },
     "metadata": {},
     "execution_count": 24
    }
   ],
   "metadata": {}
  },
  {
   "cell_type": "code",
   "execution_count": 25,
   "source": [
    "iris_df"
   ],
   "outputs": [
    {
     "output_type": "execute_result",
     "data": {
      "text/html": [
       "<div>\n",
       "<style scoped>\n",
       "    .dataframe tbody tr th:only-of-type {\n",
       "        vertical-align: middle;\n",
       "    }\n",
       "\n",
       "    .dataframe tbody tr th {\n",
       "        vertical-align: top;\n",
       "    }\n",
       "\n",
       "    .dataframe thead th {\n",
       "        text-align: right;\n",
       "    }\n",
       "</style>\n",
       "<table border=\"1\" class=\"dataframe\">\n",
       "  <thead>\n",
       "    <tr style=\"text-align: right;\">\n",
       "      <th></th>\n",
       "      <th>sepal length (cm)</th>\n",
       "      <th>sepal width (cm)</th>\n",
       "      <th>petal length (cm)</th>\n",
       "      <th>petal width (cm)</th>\n",
       "      <th>label</th>\n",
       "    </tr>\n",
       "  </thead>\n",
       "  <tbody>\n",
       "    <tr>\n",
       "      <th>0</th>\n",
       "      <td>5.1</td>\n",
       "      <td>3.5</td>\n",
       "      <td>1.4</td>\n",
       "      <td>0.2</td>\n",
       "      <td>0</td>\n",
       "    </tr>\n",
       "    <tr>\n",
       "      <th>1</th>\n",
       "      <td>4.9</td>\n",
       "      <td>3.0</td>\n",
       "      <td>1.4</td>\n",
       "      <td>0.2</td>\n",
       "      <td>0</td>\n",
       "    </tr>\n",
       "    <tr>\n",
       "      <th>2</th>\n",
       "      <td>4.7</td>\n",
       "      <td>3.2</td>\n",
       "      <td>1.3</td>\n",
       "      <td>0.2</td>\n",
       "      <td>0</td>\n",
       "    </tr>\n",
       "    <tr>\n",
       "      <th>3</th>\n",
       "      <td>4.6</td>\n",
       "      <td>3.1</td>\n",
       "      <td>1.5</td>\n",
       "      <td>0.2</td>\n",
       "      <td>0</td>\n",
       "    </tr>\n",
       "    <tr>\n",
       "      <th>4</th>\n",
       "      <td>5.0</td>\n",
       "      <td>3.6</td>\n",
       "      <td>1.4</td>\n",
       "      <td>0.2</td>\n",
       "      <td>0</td>\n",
       "    </tr>\n",
       "    <tr>\n",
       "      <th>...</th>\n",
       "      <td>...</td>\n",
       "      <td>...</td>\n",
       "      <td>...</td>\n",
       "      <td>...</td>\n",
       "      <td>...</td>\n",
       "    </tr>\n",
       "    <tr>\n",
       "      <th>145</th>\n",
       "      <td>6.7</td>\n",
       "      <td>3.0</td>\n",
       "      <td>5.2</td>\n",
       "      <td>2.3</td>\n",
       "      <td>2</td>\n",
       "    </tr>\n",
       "    <tr>\n",
       "      <th>146</th>\n",
       "      <td>6.3</td>\n",
       "      <td>2.5</td>\n",
       "      <td>5.0</td>\n",
       "      <td>1.9</td>\n",
       "      <td>2</td>\n",
       "    </tr>\n",
       "    <tr>\n",
       "      <th>147</th>\n",
       "      <td>6.5</td>\n",
       "      <td>3.0</td>\n",
       "      <td>5.2</td>\n",
       "      <td>2.0</td>\n",
       "      <td>2</td>\n",
       "    </tr>\n",
       "    <tr>\n",
       "      <th>148</th>\n",
       "      <td>6.2</td>\n",
       "      <td>3.4</td>\n",
       "      <td>5.4</td>\n",
       "      <td>2.3</td>\n",
       "      <td>2</td>\n",
       "    </tr>\n",
       "    <tr>\n",
       "      <th>149</th>\n",
       "      <td>5.9</td>\n",
       "      <td>3.0</td>\n",
       "      <td>5.1</td>\n",
       "      <td>1.8</td>\n",
       "      <td>2</td>\n",
       "    </tr>\n",
       "  </tbody>\n",
       "</table>\n",
       "<p>150 rows × 5 columns</p>\n",
       "</div>"
      ],
      "text/plain": [
       "     sepal length (cm)  sepal width (cm)  petal length (cm)  petal width (cm)  \\\n",
       "0                  5.1               3.5                1.4               0.2   \n",
       "1                  4.9               3.0                1.4               0.2   \n",
       "2                  4.7               3.2                1.3               0.2   \n",
       "3                  4.6               3.1                1.5               0.2   \n",
       "4                  5.0               3.6                1.4               0.2   \n",
       "..                 ...               ...                ...               ...   \n",
       "145                6.7               3.0                5.2               2.3   \n",
       "146                6.3               2.5                5.0               1.9   \n",
       "147                6.5               3.0                5.2               2.0   \n",
       "148                6.2               3.4                5.4               2.3   \n",
       "149                5.9               3.0                5.1               1.8   \n",
       "\n",
       "     label  \n",
       "0        0  \n",
       "1        0  \n",
       "2        0  \n",
       "3        0  \n",
       "4        0  \n",
       "..     ...  \n",
       "145      2  \n",
       "146      2  \n",
       "147      2  \n",
       "148      2  \n",
       "149      2  \n",
       "\n",
       "[150 rows x 5 columns]"
      ]
     },
     "metadata": {},
     "execution_count": 25
    }
   ],
   "metadata": {}
  },
  {
   "cell_type": "code",
   "execution_count": 27,
   "source": [
    "kfold=KFold(n_splits=3)\r\n",
    "n_iter=0\r\n",
    "for train_index,test_index in kfold.split(iris_df):\r\n",
    "    n_iter+=1\r\n",
    "    label_train=iris_df['label'].iloc[train_index]\r\n",
    "    label_test=iris_df['label'].iloc[test_index]\r\n",
    "    print('교차검증:{0}'.format(n_iter))\r\n",
    "    print('학습 레이블 데이터 분포:\\n',label_train.value_counts())\r\n",
    "    print('검증 레이블 데이터 분포:\\n',label_test.value_counts())\r\n",
    "    print('###########################################')"
   ],
   "outputs": [
    {
     "output_type": "stream",
     "name": "stdout",
     "text": [
      "교차검증:1\n",
      "학습 레이블 데이터 분포:\n",
      " 1    50\n",
      "2    50\n",
      "Name: label, dtype: int64\n",
      "검증 레이블 데이터 분포:\n",
      " 0    50\n",
      "Name: label, dtype: int64\n",
      "###########################################\n",
      "교차검증:2\n",
      "학습 레이블 데이터 분포:\n",
      " 0    50\n",
      "2    50\n",
      "Name: label, dtype: int64\n",
      "검증 레이블 데이터 분포:\n",
      " 1    50\n",
      "Name: label, dtype: int64\n",
      "###########################################\n",
      "교차검증:3\n",
      "학습 레이블 데이터 분포:\n",
      " 0    50\n",
      "1    50\n",
      "Name: label, dtype: int64\n",
      "검증 레이블 데이터 분포:\n",
      " 2    50\n",
      "Name: label, dtype: int64\n",
      "###########################################\n"
     ]
    }
   ],
   "metadata": {}
  },
  {
   "cell_type": "code",
   "execution_count": 28,
   "source": [
    "from sklearn.model_selection import StratifiedKFold\r\n",
    "skf= StratifiedKFold(n_splits=3)\r\n",
    "n_iter=0\r\n",
    "\r\n",
    "for train_index,test_index in skf.split(iris_df,iris_df['label']):\r\n",
    "    n_iter+=1\r\n",
    "    label_train=iris_df['label'].iloc[train_index]\r\n",
    "    label_test=iris_df['label'].iloc[test_index]\r\n",
    "    print('교차 검증:{0}'.format(n_iter))\r\n",
    "    print('학습 레이블 데이터 분포:\\n',label_train.value_counts())\r\n",
    "    print('검증 레이블 데이터 분포:\\n',label_test.value_counts())\r\n",
    "    print('#######################')"
   ],
   "outputs": [
    {
     "output_type": "stream",
     "name": "stdout",
     "text": [
      "교차 검증:1\n",
      "학습 레이블 데이터 분포:\n",
      " 2    34\n",
      "0    33\n",
      "1    33\n",
      "Name: label, dtype: int64\n",
      "검증 레이블 데이터 분포:\n",
      " 0    17\n",
      "1    17\n",
      "2    16\n",
      "Name: label, dtype: int64\n",
      "#######################\n",
      "교차 검증:2\n",
      "학습 레이블 데이터 분포:\n",
      " 1    34\n",
      "0    33\n",
      "2    33\n",
      "Name: label, dtype: int64\n",
      "검증 레이블 데이터 분포:\n",
      " 0    17\n",
      "2    17\n",
      "1    16\n",
      "Name: label, dtype: int64\n",
      "#######################\n",
      "교차 검증:3\n",
      "학습 레이블 데이터 분포:\n",
      " 0    34\n",
      "1    33\n",
      "2    33\n",
      "Name: label, dtype: int64\n",
      "검증 레이블 데이터 분포:\n",
      " 1    17\n",
      "2    17\n",
      "0    16\n",
      "Name: label, dtype: int64\n",
      "#######################\n"
     ]
    }
   ],
   "metadata": {}
  },
  {
   "cell_type": "code",
   "execution_count": 29,
   "source": [
    "dt_clf=DecisionTreeClassifier(random_state=156)\r\n",
    "\r\n",
    "skfold=StratifiedKFold(n_splits=3)\r\n",
    "n_iter=0\r\n",
    "cv_accuracy=[]\r\n",
    "\r\n",
    "#StratifiedKFold의 split() 호출시 반드시 레이블 데이터 세트도 추가 입력 필요\r\n",
    "for train_index,test_index in skfold.split(features,label):\r\n",
    "    #split()으로 반환된 인덱스를 이용ㅎ애 학습용,검증용 테스트 데이터 추출\r\n",
    "    X_train,X_test=features[train_index],features[test_index]\r\n",
    "    y_train,y_test=label[train_index],label[test_index]\r\n",
    "    #학습 및 예측\r\n",
    "    dt_clf.fit(X_train,y_train)\r\n",
    "    pred=dt_clf.predict(X_test)\r\n",
    "\r\n",
    "    #반복 시마다 정확도 측정\r\n",
    "    n_iter+=1\r\n",
    "    accuracy=np.round(accuracy_score(y_test,pred),4)\r\n",
    "    train_size=X_train.shape[0]\r\n",
    "    test_size=X_test.shape[0]\r\n",
    "    print('\\n{0}교차 검증 정확도 :{1},학습 데이터 크기: {2}, 검증 데이터 크기: {3}'.format(n_iter,accuracy,train_size,test_size))\r\n",
    "    print('\\n{0}검증 세트 인덱스:{1}'.format(n_iter,test_index))\r\n",
    "    cv_accuracy.append(accuracy)\r\n",
    "\r\n",
    "    #교차 검증별 정확도 및 평균 정확도 계산\r\n",
    "    print('\\n교차 검증별 정확도:',np.round(cv_accuracy,4))\r\n",
    "    print('\\n평균 검증 정확도:',np.mean(cv_accuracy))"
   ],
   "outputs": [
    {
     "output_type": "stream",
     "name": "stdout",
     "text": [
      "\n",
      "1교차 검증 정확도 :0.98,학습 데이터 크기: 100, 검증 데이터 크기: 50\n",
      "\n",
      "1검증 세트 인덱스:[  0   1   2   3   4   5   6   7   8   9  10  11  12  13  14  15  16  50\n",
      "  51  52  53  54  55  56  57  58  59  60  61  62  63  64  65  66 100 101\n",
      " 102 103 104 105 106 107 108 109 110 111 112 113 114 115]\n",
      "\n",
      "교차 검증별 정확도: [0.98]\n",
      "\n",
      "평균 검증 정확도: 0.98\n",
      "\n",
      "2교차 검증 정확도 :0.94,학습 데이터 크기: 100, 검증 데이터 크기: 50\n",
      "\n",
      "2검증 세트 인덱스:[ 17  18  19  20  21  22  23  24  25  26  27  28  29  30  31  32  33  67\n",
      "  68  69  70  71  72  73  74  75  76  77  78  79  80  81  82 116 117 118\n",
      " 119 120 121 122 123 124 125 126 127 128 129 130 131 132]\n",
      "\n",
      "교차 검증별 정확도: [0.98 0.94]\n",
      "\n",
      "평균 검증 정확도: 0.96\n",
      "\n",
      "3교차 검증 정확도 :0.98,학습 데이터 크기: 100, 검증 데이터 크기: 50\n",
      "\n",
      "3검증 세트 인덱스:[ 34  35  36  37  38  39  40  41  42  43  44  45  46  47  48  49  83  84\n",
      "  85  86  87  88  89  90  91  92  93  94  95  96  97  98  99 133 134 135\n",
      " 136 137 138 139 140 141 142 143 144 145 146 147 148 149]\n",
      "\n",
      "교차 검증별 정확도: [0.98 0.94 0.98]\n",
      "\n",
      "평균 검증 정확도: 0.9666666666666667\n"
     ]
    }
   ],
   "metadata": {}
  },
  {
   "cell_type": "code",
   "execution_count": null,
   "source": [],
   "outputs": [],
   "metadata": {}
  },
  {
   "cell_type": "code",
   "execution_count": null,
   "source": [],
   "outputs": [],
   "metadata": {}
  }
 ],
 "metadata": {
  "orig_nbformat": 4,
  "language_info": {
   "name": "python",
   "version": "3.8.8",
   "mimetype": "text/x-python",
   "codemirror_mode": {
    "name": "ipython",
    "version": 3
   },
   "pygments_lexer": "ipython3",
   "nbconvert_exporter": "python",
   "file_extension": ".py"
  },
  "kernelspec": {
   "name": "python3",
   "display_name": "Python 3.8.8 64-bit ('selenium': venv)"
  },
  "interpreter": {
   "hash": "99d9ef781e1f018e4842d442ec5389847ac5d5b87e87a5c8960faee86b75937d"
  }
 },
 "nbformat": 4,
 "nbformat_minor": 2
}