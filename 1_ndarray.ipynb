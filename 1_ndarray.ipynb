{
 "cells": [
  {
   "cell_type": "markdown",
   "source": [
    "넘파이 ndarray 개요"
   ],
   "metadata": {}
  },
  {
   "cell_type": "code",
   "execution_count": 16,
   "source": [
    "import numpy \r\n",
    "array1=np.array([1,2,3])\r\n",
    "print('array1 type:',type(array1))\r\n",
    "print('array1 array 형태:',array1.shape)\r\n",
    "\r\n",
    "array2=np.array([[1,2,3],[2,3,4]])\r\n",
    "print('array2 type:',type(array2))\r\n",
    "print('array2 array 형태:',array2.shape)\r\n",
    "\r\n",
    "array3=np.array([[1,2,3]])\r\n",
    "print('array3 type:',type(array3))\r\n",
    "print('array3 array 형태:',array3.shape)"
   ],
   "outputs": [
    {
     "output_type": "stream",
     "name": "stdout",
     "text": [
      "array1 type: <class 'numpy.ndarray'>\n",
      "array1 array 형태: (3,)\n",
      "array2 type: <class 'numpy.ndarray'>\n",
      "array2 array 형태: (2, 3)\n",
      "array3 type: <class 'numpy.ndarray'>\n",
      "array3 array 형태: (1, 3)\n"
     ]
    }
   ],
   "metadata": {}
  },
  {
   "cell_type": "code",
   "execution_count": 17,
   "source": [
    "print('array1:{0}차원,array2:{1}차원,array3:{2}차원'.format(array1.ndim,array2.ndim,array3.ndim))"
   ],
   "outputs": [
    {
     "output_type": "stream",
     "name": "stdout",
     "text": [
      "array1:1차원,array2:2차원,array3:2차원\n"
     ]
    }
   ],
   "metadata": {}
  },
  {
   "cell_type": "markdown",
   "source": [
    "ndarray 의 데이터 타입"
   ],
   "metadata": {}
  },
  {
   "cell_type": "code",
   "execution_count": 18,
   "source": [
    "list1=[1,2,3]\r\n",
    "print(type(list1))\r\n",
    "array1=np.array(list1)\r\n",
    "print(type(array1))\r\n",
    "print(array1,array1.dtype)"
   ],
   "outputs": [
    {
     "output_type": "stream",
     "name": "stdout",
     "text": [
      "<class 'list'>\n",
      "<class 'numpy.ndarray'>\n",
      "[1 2 3] int32\n"
     ]
    }
   ],
   "metadata": {}
  },
  {
   "cell_type": "code",
   "execution_count": 19,
   "source": [
    "list2=[1,2,'test']\r\n",
    "array2=np.array(list2)\r\n",
    "print(array2,array2.dtype)\r\n",
    "\r\n",
    "list3=[1,2,3.0]\r\n",
    "array3=np.array(list3)\r\n",
    "print(array3,array3.dtype)"
   ],
   "outputs": [
    {
     "output_type": "stream",
     "name": "stdout",
     "text": [
      "['1' '2' 'test'] <U11\n",
      "[1. 2. 3.] float64\n"
     ]
    }
   ],
   "metadata": {}
  },
  {
   "cell_type": "code",
   "execution_count": 20,
   "source": [
    "#int32->float64 변환 \r\n",
    "array_int=np.array([1,2,3])\r\n",
    "array_float=array_int.astype('float64')\r\n",
    "print(array_float,array_float.dtype)\r\n",
    "\r\n",
    "array_int1=array_float.astype('int32')\r\n",
    "print(array_int1,array_int1.dtype)\r\n",
    "\r\n",
    "array_float1=np.array([1.1,2.1,3.1])\r\n",
    "array_int2=array_float1.astype('int32')\r\n",
    "print(array_int2,array_int2.dtype)"
   ],
   "outputs": [
    {
     "output_type": "stream",
     "name": "stdout",
     "text": [
      "[1. 2. 3.] float64\n",
      "[1 2 3] int32\n",
      "[1 2 3] int32\n"
     ]
    }
   ],
   "metadata": {}
  },
  {
   "cell_type": "markdown",
   "source": [
    "ndarray를 편리하게 생성하기 -arrange,zeros,ones"
   ],
   "metadata": {}
  },
  {
   "cell_type": "code",
   "execution_count": 21,
   "source": [
    "sequence_array=np.arange(10)\r\n",
    "print(sequence_array)\r\n",
    "print(sequence_array.dtype,sequence_array.shape)"
   ],
   "outputs": [
    {
     "output_type": "stream",
     "name": "stdout",
     "text": [
      "[0 1 2 3 4 5 6 7 8 9]\n",
      "int32 (10,)\n"
     ]
    }
   ],
   "metadata": {}
  },
  {
   "cell_type": "code",
   "execution_count": 22,
   "source": [
    "zero_array=np.zeros((3,2),dtype='int32')\r\n",
    "print(zero_array)\r\n",
    "print(zero_array.dtype,zero_array.shape)\r\n",
    "\r\n",
    "one_array=np.ones((3,2))\r\n",
    "print(one_array)\r\n",
    "print(one_array.dtype,one_array.shape)"
   ],
   "outputs": [
    {
     "output_type": "stream",
     "name": "stdout",
     "text": [
      "[[0 0]\n",
      " [0 0]\n",
      " [0 0]]\n",
      "int32 (3, 2)\n",
      "[[1. 1.]\n",
      " [1. 1.]\n",
      " [1. 1.]]\n",
      "float64 (3, 2)\n"
     ]
    }
   ],
   "metadata": {}
  },
  {
   "cell_type": "markdown",
   "source": [
    "ndarray의 차원과 크기를 변경하는 reshape()"
   ],
   "metadata": {}
  },
  {
   "cell_type": "code",
   "execution_count": 23,
   "source": [
    "array1=np.arange(10)\r\n",
    "print('array1:\\n',array1)\r\n",
    "\r\n",
    "array2=array1.reshape(2,5)\r\n",
    "print('array2:\\n',array2)\r\n",
    "\r\n",
    "array3=array1.reshape(5,2)\r\n",
    "print('array3:\\n',array3)\r\n",
    "\r\n",
    "#array1.reshape(4,3) 오류 남 ->같은 크기가 아니라서"
   ],
   "outputs": [
    {
     "output_type": "stream",
     "name": "stdout",
     "text": [
      "array1:\n",
      " [0 1 2 3 4 5 6 7 8 9]\n",
      "array2:\n",
      " [[0 1 2 3 4]\n",
      " [5 6 7 8 9]]\n",
      "array3:\n",
      " [[0 1]\n",
      " [2 3]\n",
      " [4 5]\n",
      " [6 7]\n",
      " [8 9]]\n"
     ]
    }
   ],
   "metadata": {}
  },
  {
   "cell_type": "code",
   "execution_count": 24,
   "source": [
    "array1=np.arange(10)\r\n",
    "print(array1)\r\n",
    "array2=array1.reshape(-1,5)\r\n",
    "print('array2 shape:',array2.shape)\r\n",
    "array3=array1.reshape(5,-1)\r\n",
    "print('array3 shape:',array3.shape)"
   ],
   "outputs": [
    {
     "output_type": "stream",
     "name": "stdout",
     "text": [
      "[0 1 2 3 4 5 6 7 8 9]\n",
      "array2 shape: (2, 5)\n",
      "array3 shape: (5, 2)\n"
     ]
    }
   ],
   "metadata": {}
  },
  {
   "cell_type": "code",
   "execution_count": 25,
   "source": [
    "array1=np.arange(8)\r\n",
    "array3d=array1.reshape((2,2,2))\r\n",
    "print('array3d:\\n',array3d.tolist())\r\n",
    "\r\n",
    "#3차원 ndarray를 2차원 ndarray로 변환\r\n",
    "array5=array3d.reshape(-1,1)\r\n",
    "print('array5:\\n',array5.tolist())\r\n",
    "print('array5 shape:',array5.shape)\r\n",
    "\r\n",
    "#1차원 ndarray를 2차원 ndarray로 변환\r\n",
    "array6=array1.reshape(-1,1)\r\n",
    "print('array6:\\n',array6.tolist())\r\n",
    "print('array6 shape:',array6.shape)"
   ],
   "outputs": [
    {
     "output_type": "stream",
     "name": "stdout",
     "text": [
      "array3d:\n",
      " [[[0, 1], [2, 3]], [[4, 5], [6, 7]]]\n",
      "array5:\n",
      " [[0], [1], [2], [3], [4], [5], [6], [7]]\n",
      "array5 shape: (8, 1)\n",
      "array6:\n",
      " [[0], [1], [2], [3], [4], [5], [6], [7]]\n",
      "array6 shape: (8, 1)\n"
     ]
    }
   ],
   "metadata": {}
  },
  {
   "cell_type": "markdown",
   "source": [
    "넘파이의 ndarray의 데이터 세트 선택하기- 인덱싱(indexing)"
   ],
   "metadata": {}
  },
  {
   "cell_type": "code",
   "execution_count": 29,
   "source": [
    "#1부터 9까지의 1차원 ndarray 생성\r\n",
    "array1=np.arange(start=1,stop=10)\r\n",
    "print('array1:',array1)\r\n",
    "#index는 0부터 시작하므로 array1[2]는 3번째 index 위치의 데이터값을 의미\r\n",
    "value=array1[2]\r\n",
    "print('value:',value)\r\n",
    "print(type(value))"
   ],
   "outputs": [
    {
     "output_type": "stream",
     "name": "stdout",
     "text": [
      "array1: [1 2 3 4 5 6 7 8 9]\n",
      "value: 3\n",
      "<class 'numpy.int32'>\n"
     ]
    }
   ],
   "metadata": {}
  },
  {
   "cell_type": "code",
   "execution_count": 30,
   "source": [
    "print('맨 뒤의 값:',array1[-1],'맨 뒤에서 두 번째 값:',array1[-2])"
   ],
   "outputs": [
    {
     "output_type": "stream",
     "name": "stdout",
     "text": [
      "맨 뒤의 값: 9 맨 뒤에서 두 번째 값: 8\n"
     ]
    }
   ],
   "metadata": {}
  },
  {
   "cell_type": "code",
   "execution_count": 31,
   "source": [
    "array1[0]=9\r\n",
    "array1[8]=0\r\n",
    "print('array1:',array1)"
   ],
   "outputs": [
    {
     "output_type": "stream",
     "name": "stdout",
     "text": [
      "array1: [9 2 3 4 5 6 7 8 0]\n"
     ]
    }
   ],
   "metadata": {}
  },
  {
   "cell_type": "code",
   "execution_count": 33,
   "source": [
    "array1d=np.arange(start=1,stop=10)\r\n",
    "array2d=array1d.reshape(3,3)\r\n",
    "print(array2d)\r\n",
    "print('(row=0, col=0) index 가리키는 값:',array2d[0,0])\r\n",
    "print('(row=0, col=1) index 가리키는 값:',array2d[0,1])\r\n",
    "print('(row=1, col=0) index 가리키는 값:',array2d[1,0])\r\n",
    "print('(row=2, col=2) index 가리키는 값:',array2d[2,2])"
   ],
   "outputs": [
    {
     "output_type": "stream",
     "name": "stdout",
     "text": [
      "[[1 2 3]\n",
      " [4 5 6]\n",
      " [7 8 9]]\n",
      "(row=0, col=0) index 가리키는 값: 1\n",
      "(row=0, col=1) index 가리키는 값: 2\n",
      "(row=1, col=0) index 가리키는 값: 4\n",
      "(row=2, col=2) index 가리키는 값: 9\n"
     ]
    }
   ],
   "metadata": {}
  },
  {
   "cell_type": "markdown",
   "source": [
    "슬라이싱"
   ],
   "metadata": {}
  },
  {
   "cell_type": "code",
   "execution_count": 35,
   "source": [
    "array1=np.arange(start=1,stop=10)\r\n",
    "array3=array1[0:3]\r\n",
    "print(array3)\r\n",
    "print(type(array3))"
   ],
   "outputs": [
    {
     "output_type": "stream",
     "name": "stdout",
     "text": [
      "[1 2 3]\n",
      "<class 'numpy.ndarray'>\n"
     ]
    }
   ],
   "metadata": {}
  },
  {
   "cell_type": "code",
   "execution_count": 36,
   "source": [
    "array4=array1[:3]\r\n",
    "print(array4)\r\n",
    "\r\n",
    "array5=array1[3:]\r\n",
    "print(array5)\r\n",
    "\r\n",
    "array6=array1[:]\r\n",
    "print(array6)"
   ],
   "outputs": [
    {
     "output_type": "stream",
     "name": "stdout",
     "text": [
      "[1 2 3]\n",
      "[4 5 6 7 8 9]\n",
      "[1 2 3 4 5 6 7 8 9]\n"
     ]
    }
   ],
   "metadata": {}
  },
  {
   "cell_type": "code",
   "execution_count": 39,
   "source": [
    "array1d=np.arange(start=1,stop=10)\r\n",
    "array2d=array1d.reshape(3,3)\r\n",
    "print('array2d:\\n',array2d)\r\n",
    "\r\n",
    "print('array2d[0:2,0:2]:\\n',array2d[0:2,0:2])\r\n",
    "print('array2d[1:3,0:3]:\\n',array2d[1:3,0:3])\r\n",
    "print('array2d[1:3,:]:\\n',array2d[1:3,:])\r\n",
    "print('array2d[:,:]:\\n',array2d[:,:])\r\n",
    "print('array2d[:2,1:]:\\n',array2d[:2,1:])\r\n",
    "print('array2d[:2,0]:\\n',array2d[:2,0])"
   ],
   "outputs": [
    {
     "output_type": "stream",
     "name": "stdout",
     "text": [
      "array2d:\n",
      " [[1 2 3]\n",
      " [4 5 6]\n",
      " [7 8 9]]\n",
      "array2d[0:2,0:2]:\n",
      " [[1 2]\n",
      " [4 5]]\n",
      "array2d[1:3,0:3]:\n",
      " [[4 5 6]\n",
      " [7 8 9]]\n",
      "array2d[1:3,:]:\n",
      " [[4 5 6]\n",
      " [7 8 9]]\n",
      "array2d[:,:]:\n",
      " [[1 2 3]\n",
      " [4 5 6]\n",
      " [7 8 9]]\n",
      "array2d[:2,1:]:\n",
      " [[2 3]\n",
      " [5 6]]\n",
      "array2d[:2,0]:\n",
      " [1 4]\n"
     ]
    }
   ],
   "metadata": {}
  },
  {
   "cell_type": "code",
   "execution_count": 40,
   "source": [
    "print(array2d[0])\r\n",
    "print(array2d[1])\r\n",
    "print('array2d[0]shape:',array2d[0].shape,'array2d[1] shape',array2d[1].shape)"
   ],
   "outputs": [
    {
     "output_type": "stream",
     "name": "stdout",
     "text": [
      "[1 2 3]\n",
      "[4 5 6]\n",
      "array2d[0]shape: (3,) array2d[1] shape (3,)\n"
     ]
    }
   ],
   "metadata": {}
  },
  {
   "cell_type": "markdown",
   "source": [
    "팬시 인덱싱"
   ],
   "metadata": {}
  },
  {
   "cell_type": "code",
   "execution_count": 41,
   "source": [
    "array1d=np.arange(start=1,stop=10)\r\n",
    "array2d=array1d.reshape(3,3)\r\n",
    "\r\n",
    "array3=array2d[[0,1],2]\r\n",
    "print('array2d[[0,1],2]->',array3.tolist())\r\n",
    "\r\n",
    "array4=array2d[[0,1],0:2]\r\n",
    "print('array2d[[0,1],0:2]->',array4.tolist())\r\n",
    "\r\n",
    "array5=array2d[[0,1]]\r\n",
    "print('array2d[[0,1]]->',array5.tolist())"
   ],
   "outputs": [
    {
     "output_type": "stream",
     "name": "stdout",
     "text": [
      "array2d[[0,1],2]-> [3, 6]\n",
      "array2d[[0,1],0:2]-> [[1, 2], [4, 5]]\n",
      "array2d[[0,1]]-> [[1, 2, 3], [4, 5, 6]]\n"
     ]
    }
   ],
   "metadata": {}
  },
  {
   "cell_type": "markdown",
   "source": [
    "불린 인덱싱"
   ],
   "metadata": {}
  },
  {
   "cell_type": "code",
   "execution_count": 42,
   "source": [
    "array1d=np.arange(start=1,stop=10)\r\n",
    "#[]안에 array1d >5 Boolean indexing을 적용\r\n",
    "array3=array1d[array1d>5]\r\n",
    "print('array1d>5 불린 인덱싱 결과 값 : ',array3)"
   ],
   "outputs": [
    {
     "output_type": "stream",
     "name": "stdout",
     "text": [
      "array1d>5 불린 인덱싱 결과 값 :  [6 7 8 9]\n"
     ]
    }
   ],
   "metadata": {}
  },
  {
   "cell_type": "code",
   "execution_count": 43,
   "source": [
    "array1d>5"
   ],
   "outputs": [
    {
     "output_type": "execute_result",
     "data": {
      "text/plain": [
       "array([False, False, False, False, False,  True,  True,  True,  True])"
      ]
     },
     "metadata": {},
     "execution_count": 43
    }
   ],
   "metadata": {}
  },
  {
   "cell_type": "code",
   "execution_count": 45,
   "source": [
    "boolean_indexes=np.array([False,False,False,False,False,True,True,True,True])\r\n",
    "array3=array1d[boolean_indexes]\r\n",
    "print('불린 인덱스로 필터링 결과:',array3)"
   ],
   "outputs": [
    {
     "output_type": "stream",
     "name": "stdout",
     "text": [
      "불린 인덱스로 필터링 결과: [6 7 8 9]\n"
     ]
    }
   ],
   "metadata": {}
  },
  {
   "cell_type": "markdown",
   "source": [
    "행렬의 정렬 -sort()와 argsort()"
   ],
   "metadata": {}
  },
  {
   "cell_type": "code",
   "execution_count": 59,
   "source": [
    "org_array=np.array([3,1,9,5])\r\n",
    "print('원본 행렬:',org_array)\r\n",
    "sort_array1=np.sort(org_array)\r\n",
    "print('np.sort로 호출 후 반환된 정렬 행렬:',sort_array1)"
   ],
   "outputs": [
    {
     "output_type": "stream",
     "name": "stdout",
     "text": [
      "원본 행렬: [3 1 9 5]\n",
      "np.sort로 호출 후 반환된 정렬 행렬: [1 3 5 9]\n"
     ]
    }
   ],
   "metadata": {}
  },
  {
   "cell_type": "code",
   "execution_count": 50,
   "source": [
    "sort_array1_desc=np.sort(org_array)[::-1]\r\n",
    "print('내림차순으로 정렬:',sort_array1_desc)"
   ],
   "outputs": [
    {
     "output_type": "stream",
     "name": "stdout",
     "text": [
      "내림차순으로 정렬: [9 5 3 1]\n"
     ]
    }
   ],
   "metadata": {}
  },
  {
   "cell_type": "code",
   "execution_count": 56,
   "source": [
    "array2d=np.array([[8,12],\r\n",
    "[7,1]])\r\n",
    "sort_array2d_axis0=np.sort(array2d,axis=0)\r\n",
    "print('row방향으로 정렬:\\n',sort_array2d_axis0)\r\n",
    "\r\n",
    "sort_array2d_axis1=np.sort(array2d,axis=1)\r\n",
    "print('column방향으로 정렬:\\n',sort_array2d_axis1)"
   ],
   "outputs": [
    {
     "output_type": "stream",
     "name": "stdout",
     "text": [
      "row방향으로 정렬:\n",
      " [[ 7  1]\n",
      " [ 8 12]]\n",
      "column방향으로 정렬:\n",
      " [[ 8 12]\n",
      " [ 1  7]]\n"
     ]
    }
   ],
   "metadata": {}
  },
  {
   "cell_type": "code",
   "execution_count": 58,
   "source": [
    "org_array=np.array([3,1,9,5])\r\n",
    "sort_indices=np.argsort(org_array)\r\n",
    "print(type(sort_indices))\r\n",
    "print('행렬 정렬 시 원본 행렬의 인덱스:',sort_indices)"
   ],
   "outputs": [
    {
     "output_type": "stream",
     "name": "stdout",
     "text": [
      "<class 'numpy.ndarray'>\n",
      "행렬 정렬 시 원본 행렬의 인덱스: [1 0 3 2]\n"
     ]
    }
   ],
   "metadata": {}
  },
  {
   "cell_type": "code",
   "execution_count": 60,
   "source": [
    "org_array=np.array([3,1,9,5])\r\n",
    "sort_indices_desc=np.argsort(org_array)[::-1]\r\n",
    "print('행렬 내림차순 정렬 시 원본 행렬의 인덱스:',sort_indices_desc)"
   ],
   "outputs": [
    {
     "output_type": "stream",
     "name": "stdout",
     "text": [
      "행렬 내림차순 정렬 시 원본 행렬의 인덱스: [2 3 0 1]\n"
     ]
    }
   ],
   "metadata": {}
  },
  {
   "cell_type": "code",
   "execution_count": 61,
   "source": [
    "import numpy as np\r\n",
    "name_array=np.array(['john','mike','sarah','kate','samuel'])\r\n",
    "score_array=np.array([78,95,84,98,88])\r\n",
    "\r\n",
    "sort_indices_asc=np.argsort(score_array)\r\n",
    "print('성적 오름차순 정렬 시 score_array의 인덱스',sort_indices_asc)\r\n",
    "print('성적 오름차순으로 name_array의 이름 출력:',name_array[sort_indices_asc])"
   ],
   "outputs": [
    {
     "output_type": "stream",
     "name": "stdout",
     "text": [
      "성적 오름차순 정렬 시 score_array의 인덱스 [0 2 4 1 3]\n",
      "성적 오름차순으로 name_array의 이름 출력: ['john' 'sarah' 'samuel' 'mike' 'kate']\n"
     ]
    }
   ],
   "metadata": {}
  },
  {
   "cell_type": "markdown",
   "source": [
    "선형대수 연산 - 행렬 내적과 전치 행렬 구하기"
   ],
   "metadata": {}
  },
  {
   "cell_type": "code",
   "execution_count": 70,
   "source": [
    "A=np.array([[1,2,3],[4,5,6]])\r\n",
    "B=np.array([[7,8],[9,10],[11,12]])\r\n",
    "\r\n",
    "dot_product=np.dot(A,B)\r\n",
    "dot_product"
   ],
   "outputs": [
    {
     "output_type": "execute_result",
     "data": {
      "text/plain": [
       "array([[ 58,  64],\n",
       "       [139, 154]])"
      ]
     },
     "metadata": {},
     "execution_count": 70
    }
   ],
   "metadata": {}
  },
  {
   "cell_type": "code",
   "execution_count": 71,
   "source": [
    "A=np.array([[1,2],[3,4]])\r\n",
    "transpose_mat=np.transpose(A)\r\n",
    "transpose_mat"
   ],
   "outputs": [
    {
     "output_type": "execute_result",
     "data": {
      "text/plain": [
       "array([[1, 3],\n",
       "       [2, 4]])"
      ]
     },
     "metadata": {},
     "execution_count": 71
    }
   ],
   "metadata": {}
  }
 ],
 "metadata": {
  "orig_nbformat": 4,
  "language_info": {
   "name": "python",
   "version": "3.8.5",
   "mimetype": "text/x-python",
   "codemirror_mode": {
    "name": "ipython",
    "version": 3
   },
   "pygments_lexer": "ipython3",
   "nbconvert_exporter": "python",
   "file_extension": ".py"
  },
  "kernelspec": {
   "name": "python3",
   "display_name": "Python 3.8.5 64-bit"
  },
  "interpreter": {
   "hash": "cdce881fc8fe3df2c893f7aaabaec2dd9fa6651ea6aaf02d2bea00d8ef1afde0"
  }
 },
 "nbformat": 4,
 "nbformat_minor": 2
}