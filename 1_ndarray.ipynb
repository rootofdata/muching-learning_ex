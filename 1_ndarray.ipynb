{
 "cells": [
  {
   "cell_type": "markdown",
   "source": [
    "넘파이 ndarray 개요"
   ],
   "metadata": {}
  },
  {
   "cell_type": "code",
   "execution_count": 28,
   "source": [
    "import numpy as np\r\n",
    "array1=np.array([1,2,3])\r\n",
    "print('array1 type:',type(array1))\r\n",
    "print('array1 array 형태:',array1.shape)\r\n",
    "\r\n",
    "array2=np.array([[1,2,3],[2,3,4]])\r\n",
    "print('array2 type:',type(array2))\r\n",
    "print('array2 array 형태:',array2.shape)\r\n",
    "\r\n",
    "array3=np.array([[1,2,3]])\r\n",
    "print('array3 type:',type(array3))\r\n",
    "print('array3 array 형태:',array3.shape)"
   ],
   "outputs": [
    {
     "output_type": "stream",
     "name": "stdout",
     "text": [
      "array1 type: <class 'numpy.ndarray'>\n",
      "array1 array 형태: (3,)\n",
      "array2 type: <class 'numpy.ndarray'>\n",
      "array2 array 형태: (2, 3)\n",
      "array3 type: <class 'numpy.ndarray'>\n",
      "array3 array 형태: (1, 3)\n"
     ]
    }
   ],
   "metadata": {}
  },
  {
   "cell_type": "code",
   "execution_count": 29,
   "source": [
    "print('array1:{0}차원,array2:{1}차원,array3:{2}차원'.format(array1.ndim,array2.ndim,array3.ndim))"
   ],
   "outputs": [
    {
     "output_type": "stream",
     "name": "stdout",
     "text": [
      "array1:1차원,array2:2차원,array3:2차원\n"
     ]
    }
   ],
   "metadata": {}
  },
  {
   "cell_type": "markdown",
   "source": [
    "ndarray 의 데이터 타입"
   ],
   "metadata": {}
  },
  {
   "cell_type": "code",
   "execution_count": 30,
   "source": [
    "list1=[1,2,3]\r\n",
    "print(type(list1))\r\n",
    "array1=np.array(list1)\r\n",
    "print(type(array1))\r\n",
    "print(array1,array1.dtype)"
   ],
   "outputs": [
    {
     "output_type": "stream",
     "name": "stdout",
     "text": [
      "<class 'list'>\n",
      "<class 'numpy.ndarray'>\n",
      "[1 2 3] int32\n"
     ]
    }
   ],
   "metadata": {}
  },
  {
   "cell_type": "code",
   "execution_count": 31,
   "source": [
    "list2=[1,2,'test']\r\n",
    "array2=np.array(list2)\r\n",
    "print(array2,array2.dtype)\r\n",
    "\r\n",
    "list3=[1,2,3.0]\r\n",
    "array3=np.array(list3)\r\n",
    "print(array3,array3.dtype)"
   ],
   "outputs": [
    {
     "output_type": "stream",
     "name": "stdout",
     "text": [
      "['1' '2' 'test'] <U11\n",
      "[1. 2. 3.] float64\n"
     ]
    }
   ],
   "metadata": {}
  },
  {
   "cell_type": "code",
   "execution_count": 32,
   "source": [
    "#int32->float64 변환 \r\n",
    "array_int=np.array([1,2,3])\r\n",
    "array_float=array_int.astype('float64')\r\n",
    "print(array_float,array_float.dtype)\r\n",
    "\r\n",
    "array_int1=array_float.astype('int32')\r\n",
    "print(array_int1,array_int1.dtype)\r\n",
    "\r\n",
    "array_float1=np.array([1.1,2.1,3.1])\r\n",
    "array_int2=array_float1.astype('int32')\r\n",
    "print(array_int2,array_int2.dtype)"
   ],
   "outputs": [
    {
     "output_type": "stream",
     "name": "stdout",
     "text": [
      "[1. 2. 3.] float64\n",
      "[1 2 3] int32\n",
      "[1 2 3] int32\n"
     ]
    }
   ],
   "metadata": {}
  },
  {
   "cell_type": "markdown",
   "source": [
    "ndarray를 편리하게 생성하기 -arrange,zeros,ones"
   ],
   "metadata": {}
  },
  {
   "cell_type": "code",
   "execution_count": 33,
   "source": [
    "sequence_array=np.arange(10)\r\n",
    "print(sequence_array)\r\n",
    "print(sequence_array.dtype,sequence_array.shape)"
   ],
   "outputs": [
    {
     "output_type": "stream",
     "name": "stdout",
     "text": [
      "[0 1 2 3 4 5 6 7 8 9]\n",
      "int32 (10,)\n"
     ]
    }
   ],
   "metadata": {}
  },
  {
   "cell_type": "code",
   "execution_count": 36,
   "source": [
    "zero_array=np.zeros((3,2),dtype='int32')\r\n",
    "print(zero_array)\r\n",
    "print(zero_array.dtype,zero_array.shape)\r\n",
    "\r\n",
    "one_array=np.ones((3,2))\r\n",
    "print(one_array)\r\n",
    "print(one_array.dtype,one_array.shape)"
   ],
   "outputs": [
    {
     "output_type": "stream",
     "name": "stdout",
     "text": [
      "[[0 0]\n",
      " [0 0]\n",
      " [0 0]]\n",
      "int32 (3, 2)\n",
      "[[1. 1.]\n",
      " [1. 1.]\n",
      " [1. 1.]]\n",
      "float64 (3, 2)\n"
     ]
    }
   ],
   "metadata": {}
  },
  {
   "cell_type": "markdown",
   "source": [
    "ndarray의 차원과 크기를 변경하는 reshape()"
   ],
   "metadata": {}
  },
  {
   "cell_type": "code",
   "execution_count": 38,
   "source": [
    "array1=np.arange(10)\r\n",
    "print('array1:\\n',array1)\r\n",
    "\r\n",
    "array2=array1.reshape(2,5)\r\n",
    "print('array2:\\n',array2)\r\n",
    "\r\n",
    "array3=array1.reshape(5,2)\r\n",
    "print('array3:\\n',array3)\r\n",
    "\r\n",
    "#array1.reshape(4,3) 오류 남 ->같은 크기가 아니라서"
   ],
   "outputs": [
    {
     "output_type": "stream",
     "name": "stdout",
     "text": [
      "array1:\n",
      " [0 1 2 3 4 5 6 7 8 9]\n",
      "array2:\n",
      " [[0 1 2 3 4]\n",
      " [5 6 7 8 9]]\n",
      "array3:\n",
      " [[0 1]\n",
      " [2 3]\n",
      " [4 5]\n",
      " [6 7]\n",
      " [8 9]]\n"
     ]
    }
   ],
   "metadata": {}
  },
  {
   "cell_type": "code",
   "execution_count": 39,
   "source": [
    "array1=np.arange(10)\r\n",
    "print(array1)\r\n",
    "array2=array1.reshape(-1,5)\r\n",
    "print('array2 shape:',array2.shape)\r\n",
    "array3=array1.reshape(5,-1)\r\n",
    "print('array3 shape:',array3.shape)"
   ],
   "outputs": [
    {
     "output_type": "stream",
     "name": "stdout",
     "text": [
      "[0 1 2 3 4 5 6 7 8 9]\n",
      "array2 shape: (2, 5)\n",
      "array3 shape: (5, 2)\n"
     ]
    }
   ],
   "metadata": {}
  },
  {
   "cell_type": "code",
   "execution_count": 42,
   "source": [
    "array1=np.arange(8)\r\n",
    "array3d=array1.reshape((2,2,2))\r\n",
    "print('array3d:\\n',array3d.tolist())\r\n",
    "\r\n",
    "#3차원 ndarray를 2차원 ndarray로 변환\r\n",
    "array5=array3d.reshape(-1,1)\r\n",
    "print('array5:\\n',array5.tolist())\r\n",
    "print('array5 shape:',array5.shape)\r\n",
    "\r\n",
    "#1차원 ndarray를 2차원 ndarray로 변환\r\n",
    "array6=array1.reshape(-1,1)\r\n",
    "print('array6:\\n',array6.tolist())\r\n",
    "print('array6 shape:',array6.shape)"
   ],
   "outputs": [
    {
     "output_type": "stream",
     "name": "stdout",
     "text": [
      "array3d:\n",
      " [[[0, 1], [2, 3]], [[4, 5], [6, 7]]]\n",
      "array5:\n",
      " [[0], [1], [2], [3], [4], [5], [6], [7]]\n",
      "array5 shape: (8, 1)\n",
      "array6:\n",
      " [[0], [1], [2], [3], [4], [5], [6], [7]]\n",
      "array6 shape: (8, 1)\n"
     ]
    }
   ],
   "metadata": {}
  },
  {
   "cell_type": "markdown",
   "source": [
    "넘파이의 ndarray의 데이터 세트 선택하기- 인덱싱(indexing)"
   ],
   "metadata": {}
  },
  {
   "cell_type": "code",
   "execution_count": null,
   "source": [
    "#1부터 9까지의 1차원 ndarray 생성\r\n",
    "array1=np.arrange(start=1,stop=10)\r\n"
   ],
   "outputs": [],
   "metadata": {}
  },
  {
   "cell_type": "code",
   "execution_count": null,
   "source": [],
   "outputs": [],
   "metadata": {}
  },
  {
   "cell_type": "code",
   "execution_count": null,
   "source": [],
   "outputs": [],
   "metadata": {}
  },
  {
   "cell_type": "code",
   "execution_count": null,
   "source": [],
   "outputs": [],
   "metadata": {}
  }
 ],
 "metadata": {
  "orig_nbformat": 4,
  "language_info": {
   "name": "python",
   "version": "3.8.5",
   "mimetype": "text/x-python",
   "codemirror_mode": {
    "name": "ipython",
    "version": 3
   },
   "pygments_lexer": "ipython3",
   "nbconvert_exporter": "python",
   "file_extension": ".py"
  },
  "kernelspec": {
   "name": "python3",
   "display_name": "Python 3.8.5 64-bit"
  },
  "interpreter": {
   "hash": "cdce881fc8fe3df2c893f7aaabaec2dd9fa6651ea6aaf02d2bea00d8ef1afde0"
  }
 },
 "nbformat": 4,
 "nbformat_minor": 2
}